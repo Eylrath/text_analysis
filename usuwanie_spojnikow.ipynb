{
 "cells": [
  {
   "cell_type": "code",
   "execution_count": 1,
   "id": "5b732a2e",
   "metadata": {},
   "outputs": [],
   "source": [
    "sentence = \"Po dziesiątkach lat wiemy już całkiem dużo o dziejach wyspy i jej pierwszych mieszkańcach. Jednak w powszechnej opinii jest to ciągle tajemnicze miejsce. Do pewnego stopnia jest to prawda. Naukowcy spierają się i dyskutują na przykład na temat nieodczytanego do dziś lokalnego pisma rongorongo. Do naszych czasów zachowało się 25 zabytków, na których znajdują się takie teksty.\""
   ]
  },
  {
   "cell_type": "code",
   "execution_count": 2,
   "id": "a651a69a",
   "metadata": {
    "scrolled": true
   },
   "outputs": [
    {
     "data": {
      "text/plain": [
       "['Po',\n",
       " 'dziesiątkach',\n",
       " 'lat',\n",
       " 'wiemy',\n",
       " 'już',\n",
       " 'całkiem',\n",
       " 'dużo',\n",
       " 'o',\n",
       " 'dziejach',\n",
       " 'wyspy',\n",
       " 'i',\n",
       " 'jej',\n",
       " 'pierwszych',\n",
       " 'mieszkańcach.',\n",
       " 'Jednak',\n",
       " 'w',\n",
       " 'powszechnej',\n",
       " 'opinii',\n",
       " 'jest',\n",
       " 'to',\n",
       " 'ciągle',\n",
       " 'tajemnicze',\n",
       " 'miejsce.',\n",
       " 'Do',\n",
       " 'pewnego',\n",
       " 'stopnia',\n",
       " 'jest',\n",
       " 'to',\n",
       " 'prawda.',\n",
       " 'Naukowcy',\n",
       " 'spierają',\n",
       " 'się',\n",
       " 'i',\n",
       " 'dyskutują',\n",
       " 'na',\n",
       " 'przykład',\n",
       " 'na',\n",
       " 'temat',\n",
       " 'nieodczytanego',\n",
       " 'do',\n",
       " 'dziś',\n",
       " 'lokalnego',\n",
       " 'pisma',\n",
       " 'rongorongo.',\n",
       " 'Do',\n",
       " 'naszych',\n",
       " 'czasów',\n",
       " 'zachowało',\n",
       " 'się',\n",
       " '25',\n",
       " 'zabytków,',\n",
       " 'na',\n",
       " 'których',\n",
       " 'znajdują',\n",
       " 'się',\n",
       " 'takie',\n",
       " 'teksty.']"
      ]
     },
     "execution_count": 2,
     "metadata": {},
     "output_type": "execute_result"
    }
   ],
   "source": [
    "x = sentence.split()\n",
    "x"
   ]
  },
  {
   "cell_type": "code",
   "execution_count": 3,
   "id": "bed7bfc5",
   "metadata": {},
   "outputs": [],
   "source": [
    "###lista zrobiona"
   ]
  },
  {
   "cell_type": "code",
   "execution_count": 4,
   "id": "46c68261",
   "metadata": {},
   "outputs": [],
   "source": [
    "a = \"bez, do, dla, dzięki, koło, ku, między, nad, z, przez, po, poprzez, zza, pomiędzy, spode, pomimo, znad, spomiędzy, dopóki, dookoła, dlaczego, naprzeciwko, nadaremnie, natomiast, naraz, wbrew, wpław, wstecz, zaledwie, zbyt, znienacka, oraz, albo, lub, bądź, czy, natomiast,ale, jednak, lecz, zaś, więc, zatem, toteż, czyli, mianowicie, to, ani, ni, że, ponieważ, bo, aby, choć, czy, jeżeli, czy, razy, tylko, nie, ani, chyba, niech, niechaj, tak, bodajże, się, oby, ja, ty, my, wy, oni, kto, co, nic, coś, ktoś, mój, twój, nasz, taki, który, inny, tamten, ta, ci,  ile, tyle, kilka, ileś, ilekolwiek, tak, tam, tu, wtedy, gdzieś, tamtędy, kiedyś,się, siebie, sobie, jego, jej, nasz, wasz, ich, ten, ta, to, tamten, tam, tu, ów, tędy, taki, ci, tamci, owi, sam, kto, co, jaki, który, gdzie, kiedy, jak, komu, czemu, kogo,, kto, co, komu, ktoś, coś, jakiś, gdzieś, kiedyś, cokolwiek,nic, nikt, żaden, nigdy, nigdzie, wszyscy, zawsze,  ja, mnie, ty, tobie, my, nam, wy, was, oni, one, ich, kto, kogo, co, czego, nic, niczego, coś, czemuś, ktoś, kimś, mój, mojego, twój, twoich, nasz, naszej, taki, taka, który, którego, inny, innej, tamten, tamtą, ta, tej, ile, iloma, ilu, tyle, tylu, tyloma, tak, tam, tu, wtedy, gdzieś, tamtędy, kiedyś, mi, mnie, ci, tobie, jego, go, mu, jemu\""
   ]
  },
  {
   "cell_type": "code",
   "execution_count": 5,
   "id": "125fe218",
   "metadata": {},
   "outputs": [],
   "source": [
    "temp_list = list(set(a.replace(\" \",\"\").split(\",\")))\n",
    "l_spojnik = []\n",
    "for el in temp_list:\n",
    "    if len(el) >=3:\n",
    "        l_spojnik.append(el)\n",
    "#l_spojnik"
   ]
  },
  {
   "cell_type": "code",
   "execution_count": 6,
   "id": "725eb960",
   "metadata": {},
   "outputs": [],
   "source": [
    "#l = [\"id\", \"pi\", \"bi\"]\n",
    "# l_spojnik = [bez, do, dla, dzięki, koło, ku, między, nad, z, przez, po, poprzez, \n",
    "#              zza, pomiędzy, spode, pomimo, znad, spomiędzy,\n",
    "#             dopóki, dookoła, dlaczego, naprzeciwko, nadaremnie, natomiast, \n",
    "#              naraz, wbrew, wpław, wstecz, zaledwie, zbyt, znienacka, oraz, albo, lub, bądź, czy, natomiast,ale, jednak, lecz, zaś,\n",
    "#             więc, zatem, toteż, czyli, mianowicie, to jest, ani, ni,  że, ponieważ, bo, aby, choć, czy, jeżeli,\n",
    "#             czy, razy, tylko, nie, ani, chyba, niech, niechaj, tak, bodajże, się, oby, ja, ty, my, wy, oni, kto, co, nic, coś, ktoś,\n",
    "#             mój, twój, nasz, taki, który, inny, tamten, ta, ci,  ile, tyle, kilka, ileś, ilekolwiek, tak, tam, tu, wtedy, gdzieś, tamtędy, kiedyś,\n",
    "#             się, siebie, sobie, jego, jej, nasz, wasz, ich, ten, ta, to, tamten, tam, tu, ów, tędy, taki, ci, tamci, owi, sam,\n",
    "#             kto, co, jaki, który, gdzie, kiedy, jak, komu, czemu, kogo,, kto, co, komu, ktoś, coś, jakiś, gdzieś, kiedyś, cokolwiek,\n",
    "#             nic, nikt, żaden, nigdy, nigdzie, wszyscy, zawsze,  ja, mnie, ty, tobie, my, nam, wy, was, oni, one, ich, kto, \n",
    "#              kogo, co, czego, nic, niczego, coś, czemuś, ktoś, kimś, mój, mojego, twój, twoich, nasz, naszej, taki, taka, który, \n",
    "#              którego, inny, innej, tamten, tamtą, ta, tej, ile, iloma, ilu, tyle, tylu, tyloma, tak, tam, tu, wtedy, gdzieś, \n",
    "#              tamtędy, kiedyś, mi, mnie, ci, tobie, jego, go, mu, jemu]\n",
    "def spojnik(zd, L):\n",
    "    res = []\n",
    "    for el in zd:\n",
    "        if len(el) >=3 and el not in L:\n",
    "            res.append(el)\n",
    "    return res"
   ]
  },
  {
   "cell_type": "code",
   "execution_count": 7,
   "id": "d1985a89",
   "metadata": {
    "scrolled": true
   },
   "outputs": [
    {
     "data": {
      "text/plain": [
       "['dziesiątkach',\n",
       " 'lat',\n",
       " 'wiemy',\n",
       " 'już',\n",
       " 'całkiem',\n",
       " 'dużo',\n",
       " 'dziejach',\n",
       " 'wyspy',\n",
       " 'pierwszych',\n",
       " 'mieszkańcach.',\n",
       " 'Jednak',\n",
       " 'powszechnej',\n",
       " 'opinii',\n",
       " 'jest',\n",
       " 'ciągle',\n",
       " 'tajemnicze',\n",
       " 'miejsce.',\n",
       " 'pewnego',\n",
       " 'stopnia',\n",
       " 'jest',\n",
       " 'prawda.',\n",
       " 'Naukowcy',\n",
       " 'spierają',\n",
       " 'dyskutują',\n",
       " 'przykład',\n",
       " 'temat',\n",
       " 'nieodczytanego',\n",
       " 'dziś',\n",
       " 'lokalnego',\n",
       " 'pisma',\n",
       " 'rongorongo.',\n",
       " 'naszych',\n",
       " 'czasów',\n",
       " 'zachowało',\n",
       " 'zabytków,',\n",
       " 'których',\n",
       " 'znajdują',\n",
       " 'takie',\n",
       " 'teksty.']"
      ]
     },
     "execution_count": 7,
     "metadata": {},
     "output_type": "execute_result"
    }
   ],
   "source": [
    "spojnik(x, l_spojnik)"
   ]
  },
  {
   "cell_type": "code",
   "execution_count": 8,
   "id": "6efd0ac7",
   "metadata": {},
   "outputs": [],
   "source": [
    "####wczytana lista z pliku"
   ]
  },
  {
   "cell_type": "code",
   "execution_count": 9,
   "id": "1c3ffffe",
   "metadata": {},
   "outputs": [],
   "source": [
    "with open (\"polish.stopwords.txt\", \"r\") as file:\n",
    "    lista = file.read()\n",
    "lista_sp = []\n",
    "for el in lista.split():\n",
    "    if len(el) >=3:\n",
    "        lista_sp.append(el)"
   ]
  },
  {
   "cell_type": "code",
   "execution_count": 10,
   "id": "0bfef20c",
   "metadata": {
    "scrolled": true
   },
   "outputs": [
    {
     "data": {
      "text/plain": [
       "['dziesiątkach',\n",
       " 'wiemy',\n",
       " 'całkiem',\n",
       " 'dziejach',\n",
       " 'wyspy',\n",
       " 'pierwszych',\n",
       " 'mieszkańcach.',\n",
       " 'Jednak',\n",
       " 'powszechnej',\n",
       " 'opinii',\n",
       " 'ciągle',\n",
       " 'tajemnicze',\n",
       " 'miejsce.',\n",
       " 'pewnego',\n",
       " 'stopnia',\n",
       " 'prawda.',\n",
       " 'Naukowcy',\n",
       " 'spierają',\n",
       " 'dyskutują',\n",
       " 'przykład',\n",
       " 'temat',\n",
       " 'nieodczytanego',\n",
       " 'lokalnego',\n",
       " 'pisma',\n",
       " 'rongorongo.',\n",
       " 'czasów',\n",
       " 'zachowało',\n",
       " 'zabytków,',\n",
       " 'znajdują',\n",
       " 'teksty.']"
      ]
     },
     "execution_count": 10,
     "metadata": {},
     "output_type": "execute_result"
    }
   ],
   "source": [
    "spojnik(x, lista_sp)"
   ]
  },
  {
   "cell_type": "code",
   "execution_count": 16,
   "id": "010de063",
   "metadata": {},
   "outputs": [
    {
     "data": {
      "text/plain": [
       "['dziesiątkach',\n",
       " 'wiemy',\n",
       " 'całkiem',\n",
       " 'dziejach',\n",
       " 'wyspy',\n",
       " 'pierwszych',\n",
       " 'mieszkańcach',\n",
       " 'Jednak',\n",
       " 'powszechnej',\n",
       " 'opinii',\n",
       " 'ciągle',\n",
       " 'tajemnicze',\n",
       " 'miejsce',\n",
       " 'pewnego',\n",
       " 'stopnia',\n",
       " 'prawda',\n",
       " 'Naukowcy',\n",
       " 'spierają',\n",
       " 'dyskutują',\n",
       " 'przykład',\n",
       " 'temat',\n",
       " 'nieodczytanego',\n",
       " 'lokalnego',\n",
       " 'pisma',\n",
       " 'rongorongo',\n",
       " 'czasów',\n",
       " 'zachowało',\n",
       " 'zabytków',\n",
       " 'znajdują',\n",
       " 'teksty']"
      ]
     },
     "execution_count": 16,
     "metadata": {},
     "output_type": "execute_result"
    }
   ],
   "source": [
    "def clean(tekst):\n",
    "    res = \"\"\n",
    "    for el in tekst:\n",
    "        if el not in [\".\",\",\",\"?\",\"!\",\";\",\":\",\"%\", \"&\", \")\",\">\",\"]\",\"$\",\"@\",\"(\", \"[\", \"<\", \"0\",\"1\",\"2\",\"3\",\"4\",\"5\",\"6\",\"7\",\"8\",\"9\"]:\n",
    "            res += el \n",
    "    return res\n",
    "#print(clean(sentence))\n",
    "\n",
    "spojnik(clean(sentence).split(), lista_sp)"
   ]
  },
  {
   "cell_type": "code",
   "execution_count": 1,
   "id": "b5b27079",
   "metadata": {},
   "outputs": [
    {
     "data": {
      "text/plain": [
       "'pierwsza przekazać protest związek naruszyć polski przestrzeń powietrzny dodatkowy związek zachować ambasador droga pisemny pomoc nota przesłać zarówno ambasada rosja warszawa zwiększyć efekt poprzez ambasada rosyjski druga wydać dyspozycja ambasador moskwa równia rosyjski warszawa zignorować najbliższy zaprosić rosyjski następny udzielić wywiad wybrać polski medium wyjaśnić odpowiadać forma zaprosić trzeci opcja wydawać niestety wskazywać rzecznik paweł wroński wydalić ambasador rosja problem polegać wskazywać rzecznik opłacać rosja polska polska wydać ambasador rosja rosjanin rama wzajemność zasada dyplomacja stosować wydalić rosja ambasador moskwa krzysztof krajewski głęboki zgodny żywotny interes narodowy utrzymywać kanał moskwa poziom ambasador sytuacja toczyć granica wojna mniej istotny czas pokój obecność ambasador pozwalać wnikliwy dziać pomiędzy waszyngton moskwa mówić wprost założyć amerykan mówić warta miecia nasłuch stan biali ambasada moskwa dodatek obecny ambasador moskwa należeć wąski grono ambasador państwo nato moskwa głos docierać stolica kwatera główny pakt'"
      ]
     },
     "execution_count": 1,
     "metadata": {},
     "output_type": "execute_result"
    }
   ],
   "source": [
    "'pierwsza przekazać protest związek naruszyć polski przestrzeń powietrzny dodatkowy związek zachować ambasador droga pisemny pomoc nota przesłać zarówno ambasada rosja warszawa zwiększyć efekt poprzez ambasada rosyjski druga wydać dyspozycja ambasador moskwa równia rosyjski warszawa zignorować najbliższy zaprosić rosyjski następny udzielić wywiad wybrać polski medium wyjaśnić odpowiadać forma zaprosić trzeci opcja wydawać niestety wskazywać rzecznik paweł wroński wydalić ambasador rosja problem polegać wskazywać rzecznik opłacać rosja polska polska wydać ambasador rosja rosjanin rama wzajemność zasada dyplomacja stosować wydalić rosja ambasador moskwa krzysztof krajewski głęboki zgodny żywotny interes narodowy utrzymywać kanał moskwa poziom ambasador sytuacja toczyć granica wojna mniej istotny czas pokój obecność ambasador pozwalać wnikliwy dziać pomiędzy waszyngton moskwa mówić wprost założyć amerykan mówić warta miecia nasłuch stan biali ambasada moskwa dodatek obecny ambasador moskwa należeć wąski grono ambasador państwo nato moskwa głos docierać stolica kwatera główny pakt'"
   ]
  },
  {
   "cell_type": "code",
   "execution_count": null,
   "id": "5ec3d068",
   "metadata": {},
   "outputs": [],
   "source": []
  }
 ],
 "metadata": {
  "kernelspec": {
   "display_name": "Python 3 (ipykernel)",
   "language": "python",
   "name": "python3"
  },
  "language_info": {
   "codemirror_mode": {
    "name": "ipython",
    "version": 3
   },
   "file_extension": ".py",
   "mimetype": "text/x-python",
   "name": "python",
   "nbconvert_exporter": "python",
   "pygments_lexer": "ipython3",
   "version": "3.9.7"
  }
 },
 "nbformat": 4,
 "nbformat_minor": 5
}
