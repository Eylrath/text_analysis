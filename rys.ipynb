{
 "cells": [
  {
   "cell_type": "code",
   "execution_count": 1,
   "id": "eb235757",
   "metadata": {},
   "outputs": [],
   "source": [
    "import re\n",
    "import numpy as np"
   ]
  },
  {
   "cell_type": "markdown",
   "id": "61763251",
   "metadata": {},
   "source": [
    "### Stworzenie słownika z bazy sjp"
   ]
  },
  {
   "cell_type": "code",
   "execution_count": 2,
   "id": "881e1b6a",
   "metadata": {},
   "outputs": [],
   "source": [
    "with open (\"files/polish.stopwords.txt\", \"r\", encoding=\"utf8\") as file:\n",
    "    lista = file.read()\n",
    "lista_sp = []\n",
    "for el in lista.split():\n",
    "    if len(el) >=3:\n",
    "        lista_sp.append(el)"
   ]
  },
  {
   "cell_type": "code",
   "execution_count": 3,
   "id": "29e26a0b",
   "metadata": {},
   "outputs": [],
   "source": [
    "D = {}\n",
    "cores = []\n",
    "max_length = 10\n",
    "min_length = 4\n",
    "with open(\"files/odm.txt\", \"r\", encoding=\"utf8\") as f:\n",
    "    while words_list := f.readline():\n",
    "        words = words_list.replace(\", \", \",\").replace(\"\\n\", \"\")\n",
    "        found = False\n",
    "        for sign in \".:- !?\":\n",
    "            if sign in words:\n",
    "                found = True\n",
    "        words_list = words.split(\",\")\n",
    "        core = words_list[0].lower()\n",
    "        if found or len(core) > max_length or len(core) < min_length or core in lista_sp:\n",
    "            continue \n",
    "        cores.append(core)\n",
    "        for word in words_list:\n",
    "            word = word.lower()\n",
    "            if word not in D:\n",
    "                D[word] = core         \n",
    "cores = list(set(cores))"
   ]
  },
  {
   "cell_type": "code",
   "execution_count": 4,
   "id": "f7bf99cd",
   "metadata": {},
   "outputs": [
    {
     "data": {
      "text/plain": [
       "138163"
      ]
     },
     "execution_count": 4,
     "metadata": {},
     "output_type": "execute_result"
    }
   ],
   "source": [
    "len(cores)"
   ]
  },
  {
   "cell_type": "code",
   "execution_count": 5,
   "id": "b690c0ce",
   "metadata": {},
   "outputs": [],
   "source": [
    "# lista_sp"
   ]
  },
  {
   "cell_type": "markdown",
   "id": "d2d3fd30",
   "metadata": {},
   "source": [
    "### Funkcja do lematyzacji\n",
    "(kto by się spodziewał)"
   ]
  },
  {
   "cell_type": "code",
   "execution_count": 6,
   "id": "2fccdb1c",
   "metadata": {},
   "outputs": [],
   "source": [
    "def clean(tekst):\n",
    "    res = \"\"\n",
    "    tekst = tekst.replace('\\n', ' ')\n",
    "    tekst = tekst.lower()\n",
    "    for el in tekst:\n",
    "        if el not in [\".\",\",\",\"?\",\"!\",\";\",\":\",\"%\", \"&\", \")\",\">\",\"]\",\"$\",\"@\",\"(\", \"[\", \"<\", \"0\",\"1\",\"2\",\"3\",\"4\",\"5\",\"6\",\"7\",\"8\",\"9\"]:\n",
    "            res += el \n",
    "    return res\n",
    "\n",
    "def lemmatisation(text, D, stopwords):\n",
    "#     text = re.sub(\"[,.:]\", \"\", text)\n",
    "#     text = text.replace(\"\\n\", \" \")\n",
    "\n",
    "    text = clean(text)\n",
    "#     print(text)\n",
    "#     return \" \".join([D[word] if word in D else word for word in text.split(\" \") ])\n",
    "    return \" \".join([D[word] for word in text.split(\" \") if word in D and word not in stopwords])    "
   ]
  },
  {
   "cell_type": "code",
   "execution_count": 7,
   "id": "25b977cb",
   "metadata": {
    "scrolled": true
   },
   "outputs": [
    {
     "data": {
      "text/plain": [
       "'pierwsza przekazać protest związek naruszyć polski przestrzeń powietrzny dodatkowy związek zachować ambasador droga pisemny pomoc nota przesłać zarówno ambasada rosja warszawa zwiększyć efekt poprzez ambasada rosyjski druga wydać dyspozycja ambasador moskwa równia rosyjski warszawa zignorować najbliższy zaprosić rosyjski następny udzielić wywiad wybrać polski medium wyjaśnić odpowiadać forma zaprosić trzeci opcja wydawać niestety wskazywać rzecznik paweł wroński wydalić ambasador rosja problem polegać wskazywać rzecznik opłacać rosja polska polska wydać ambasador rosja rosjanin rama wzajemność zasada dyplomacja stosować wydalić rosja ambasador moskwa krzysztof krajewski głęboki zgodny żywotny interes narodowy utrzymywać kanał moskwa poziom ambasador sytuacja toczyć granica wojna mniej istotny czas pokój obecność ambasador pozwalać wnikliwy dziać pomiędzy waszyngton moskwa mówić wprost założyć amerykan mówić warta miecia nasłuch stan biali ambasada moskwa dodatek obecny ambasador moskwa należeć wąski grono ambasador państwo nato moskwa głos docierać stolica kwatera główny pakt'"
      ]
     },
     "execution_count": 7,
     "metadata": {},
     "output_type": "execute_result"
    }
   ],
   "source": [
    "text = \"\"\"Po pierwsze przekazać swój protest w związku z naruszeniem polskiej przestrzeni powietrznej oraz dodatkowo w związku z zachowaniem ambasadora drogą pisemną, czyli za pomocą noty dyplomatycznej, którą możemy przesłać zarówno Ambasadzie Rosji w Warszawie, jak i dla zwiększenia efektu poprzez naszą ambasadę rosyjskiemu MSZ.\n",
    "Po drugie można wydać dyspozycję ambasadorowi RP w Moskwie, by ten równie ostentacyjnie, co jego rosyjski odpowiednik w Warszawie, zignorował jedno z najbliższych zaproszeń do rosyjskiego MSZ, a następnie udzielił wywiadu wybranemu polskiemu medium, w którym wyjaśni, że nie odpowiadała mu forma zaproszenia.\n",
    "Trzecia opcja, na którą wydawał się niestety wskazywać rzecznik MSZ Paweł Wroński, to wydalenie ambasadora Rosji. Problem polega na tym, że to, na co wskazywał rzecznik MSZ, opłaca się Rosji, ale nie Polsce. Jeśli bowiem Polska wydali ambasadora Rosji, to Rosjanie w ramach wzajemności, czyli zasady dyplomacji, którą bezwzględnie stosują, wydalą z Rosji ambasadora RP w Moskwie Krzysztofa Krajewskiego. Byłoby to głęboko niezgodne z żywotnymi interesami narodowymi RP.\n",
    "Utrzymywanie kanału komunikacji z Moskwą na poziomie ambasadora jest w sytuacji toczącej się za naszą granicą wojny bardziej, a nie mniej istotne, niż w czasach pokoju.\n",
    "Co więcej, obecność ambasadora pozwala wnikliwej monitorować to, co dzieje się pomiędzy np. Waszyngtonem a Moskwą. Mówiąc wprost, jeśli założyć, że Amerykanie nie zawsze lub nie od razu nam wszystko mówią, to warto mieć nasłuch nie tylko w Departamencie Stanu USA czy też w Białym Domu, ale również Ambasadzie USA w Moskwie.\n",
    "W dodatku obecny ambasador w Moskwie należy do wąskiego grona ambasadorów państw NATO w Moskwie, których głos dociera nie tylko do ich stolic, ale również do Kwatery Głównej paktu.\"\"\"\n",
    "new_text = lemmatisation(text, D, lista_sp)\n",
    "new_text"
   ]
  },
  {
   "cell_type": "markdown",
   "id": "15c17bb4",
   "metadata": {},
   "source": [
    "### Zliczanie powtórzeń"
   ]
  },
  {
   "cell_type": "code",
   "execution_count": 8,
   "id": "17f09377",
   "metadata": {},
   "outputs": [],
   "source": [
    "occurences = {}\n",
    "for word in new_text.split(\" \"):\n",
    "    if word not in occurences:\n",
    "        occurences[word] = 1\n",
    "    else:\n",
    "        occurences[word] += 1"
   ]
  },
  {
   "cell_type": "code",
   "execution_count": 9,
   "id": "101f6bf3",
   "metadata": {},
   "outputs": [
    {
     "data": {
      "text/plain": [
       "[(9, 'ambasador'), (7, 'moskwa'), (5, 'rosja'), (3, 'rosyjski')]"
      ]
     },
     "execution_count": 9,
     "metadata": {},
     "output_type": "execute_result"
    }
   ],
   "source": [
    "# {word:occurences[word] for word in occurences.keys() if occurences[word] > 1}\n",
    "sorted(((occurence, word) for word, occurence in occurences.items()), reverse=True)[:4]"
   ]
  },
  {
   "cell_type": "markdown",
   "id": "25bb430a",
   "metadata": {},
   "source": [
    "#### todo\n",
    "- pod prezentację stworzyć histogram\n",
    "- wyrzucić spójniki\n",
    "- rozdzielic na slownik z rzeczownikami i z czasownikami\n"
   ]
  },
  {
   "cell_type": "code",
   "execution_count": 10,
   "id": "242bbc40",
   "metadata": {},
   "outputs": [
    {
     "data": {
      "text/plain": [
       "'egzekucja'"
      ]
     },
     "execution_count": 10,
     "metadata": {},
     "output_type": "execute_result"
    }
   ],
   "source": [
    "D[\"egzekucja\"]"
   ]
  },
  {
   "cell_type": "markdown",
   "id": "6c207ad5",
   "metadata": {},
   "source": [
    "Dzisiaj przeprowadzono egzekucję na krześle elektrycznym"
   ]
  },
  {
   "cell_type": "markdown",
   "id": "7bb644df",
   "metadata": {},
   "source": [
    "### Bag-of-words"
   ]
  },
  {
   "cell_type": "code",
   "execution_count": 11,
   "id": "425be5c4",
   "metadata": {
    "scrolled": true
   },
   "outputs": [
    {
     "data": {
      "text/plain": [
       "138163"
      ]
     },
     "execution_count": 11,
     "metadata": {},
     "output_type": "execute_result"
    }
   ],
   "source": [
    "len(cores)"
   ]
  },
  {
   "cell_type": "code",
   "execution_count": 12,
   "id": "2fc8610c",
   "metadata": {},
   "outputs": [],
   "source": [
    "def vectorize(sentence_L, all_words):\n",
    "    vector = np.zeros(len(all_words))\n",
    "    for word in sentence_L:\n",
    "        if word in all_words:\n",
    "            idx = all_words.index(word)\n",
    "            vector[idx] += 1\n",
    "    return vector"
   ]
  },
  {
   "cell_type": "code",
   "execution_count": 13,
   "id": "9d7c1d2e",
   "metadata": {},
   "outputs": [],
   "source": [
    "text_L = new_text.split(\" \")"
   ]
  },
  {
   "cell_type": "code",
   "execution_count": 14,
   "id": "6df83057",
   "metadata": {},
   "outputs": [],
   "source": [
    "X = vectorize(text_L, cores)"
   ]
  },
  {
   "cell_type": "code",
   "execution_count": 15,
   "id": "0e61831c",
   "metadata": {},
   "outputs": [
    {
     "data": {
      "text/plain": [
       "array([0., 0., 0., ..., 0., 0., 0.])"
      ]
     },
     "execution_count": 15,
     "metadata": {},
     "output_type": "execute_result"
    }
   ],
   "source": [
    "X"
   ]
  },
  {
   "cell_type": "markdown",
   "id": "8beae60f",
   "metadata": {},
   "source": [
    "###### Zdanie\n",
    "Marcinowi i o rok młodszemu Krzyśkowi ciężko bronić się podczas procesu. Konsekwentnie mówią, że z zabójstwem braci Nefel nie mają nic wspólnego. Nie było ich na miejscu zbrodni. Gdy doszło do morderstwa, byli ze swoimi rodzinami. Ich zeznania są spójne. Nie zmieniają się.\n",
    "\n",
    "Kontekst `Zbrodnia`"
   ]
  },
  {
   "cell_type": "code",
   "execution_count": 24,
   "id": "12428c2b",
   "metadata": {},
   "outputs": [],
   "source": [
    "with open('files/zdania.txt', 'r', encoding='utf8') as f:\n",
    "    sentences = []\n",
    "    sentence = \"\"\n",
    "    count_breaks = 0\n",
    "    while line := f.readline():\n",
    "        if line == '\\n':\n",
    "            count_breaks += 1\n",
    "        else:\n",
    "            sentence += line\n",
    "        if count_breaks == 2:\n",
    "            sentences.append(sentence)\n",
    "            sentence = \"\"\n",
    "            count_breaks = 0\n",
    "        "
   ]
  },
  {
   "cell_type": "code",
   "execution_count": 36,
   "id": "a1c00a0f",
   "metadata": {},
   "outputs": [
    {
     "data": {
      "text/plain": [
       "['markiza',\n",
       " 'whiskey',\n",
       " 'trasa',\n",
       " 'szczepienia',\n",
       " 'wypadek',\n",
       " 'ropa',\n",
       " 'wypadek',\n",
       " 'sondaż',\n",
       " 'wsparcie',\n",
       " 'banan',\n",
       " 'zwierzęta',\n",
       " 'zwierzęta',\n",
       " 'zwierzęta',\n",
       " 'sport',\n",
       " 'sport',\n",
       " 'astronomia',\n",
       " 'astronomia',\n",
       " 'astronomia',\n",
       " 'historia',\n",
       " 'historia']"
      ]
     },
     "execution_count": 36,
     "metadata": {},
     "output_type": "execute_result"
    }
   ],
   "source": [
    "contexts = []\n",
    "with open('files/konteksty.txt', 'r', encoding='utf8') as f:\n",
    "    while word := f.readline():\n",
    "        word = word.replace(\"\\n\", \"\")\n",
    "        contexts.append(word)\n",
    "contexts   "
   ]
  },
  {
   "cell_type": "code",
   "execution_count": 44,
   "id": "47e51819",
   "metadata": {},
   "outputs": [
    {
     "data": {
      "text/plain": [
       "['astronomia',\n",
       " 'trasa',\n",
       " 'zwierzęta',\n",
       " 'sport',\n",
       " 'wypadek',\n",
       " 'szczepienia',\n",
       " 'sondaż',\n",
       " 'banan',\n",
       " 'historia',\n",
       " 'whiskey',\n",
       " 'ropa',\n",
       " 'markiza',\n",
       " 'wsparcie']"
      ]
     },
     "execution_count": 44,
     "metadata": {},
     "output_type": "execute_result"
    }
   ],
   "source": [
    "contexts_set = list(set(contexts))\n",
    "contexts_set"
   ]
  },
  {
   "cell_type": "code",
   "execution_count": 45,
   "id": "f842e762",
   "metadata": {},
   "outputs": [],
   "source": [
    "def vectorize_output(word, contexts_set):\n",
    "    out = np.zeros(len(contexts_set))\n",
    "    index = contexts_set.index(word)\n",
    "    out[index] = 1\n",
    "    return out"
   ]
  },
  {
   "cell_type": "code",
   "execution_count": 46,
   "id": "9de0f6e6",
   "metadata": {},
   "outputs": [
    {
     "data": {
      "text/plain": [
       "array([0., 0., 0., 0., 0., 0., 0., 0., 1., 0., 0., 0., 0.])"
      ]
     },
     "execution_count": 46,
     "metadata": {},
     "output_type": "execute_result"
    }
   ],
   "source": [
    "vectorize_output(\"historia\", contexts_set)"
   ]
  },
  {
   "cell_type": "code",
   "execution_count": 25,
   "id": "2b0c8446",
   "metadata": {},
   "outputs": [
    {
     "data": {
      "text/plain": [
       "20"
      ]
     },
     "execution_count": 25,
     "metadata": {},
     "output_type": "execute_result"
    }
   ],
   "source": [
    "len(sentences)"
   ]
  },
  {
   "cell_type": "code",
   "execution_count": 26,
   "id": "fe97da69",
   "metadata": {},
   "outputs": [
    {
     "data": {
      "text/plain": [
       "'Ruszając rowerem z serca Szwajcarii Holsztyńskiej, po 45 km dojeżdżamy do Travemünde, nadmorskiej dzielnicy Lubeki z dziką przyrodą oraz niezapomnianym widokiem na Zatokę Lubecką, który rozciąga się ze stromego brzegu Brodten. Klify w tym miejscu osiągają nawet 20 metrów wysokości. Czterokilometrowa ścieżka wzdłuż wybrzeża wiedzie od Travemünde do Niendorf, górą, gdzie spokojnie można przejechać rowerem albo wózkiem, lub dołem – przez dziką i kamienistą plażę. Jedyne schody łączące obie ścieżki znajdują się około kilometra przed Niendorfem.\\nTuż obok Travemünde, u ujścia rzeki Trave, położony jest półwysep Priwall z dziewiczą plażą otoczoną wydmami oraz rzadkimi gatunkami ptaków, które można obserwować, przemierzając turystyczne szlaki. Wzdłuż wybrzeża prowadzi trasa rowerowa, a liczne punkty dostępu do plaży zachęcają do zatrzymania się i kąpieli. Obszar ochrony przyrody \"Südlicher Priwall\" z przyległymi strefami płytkich wód Pötenitzer Wiek to miejsce występowania rzadkich gatunków roślin i ptaków. Warto skorzystać z oferty Warsztatów Przyrodniczych Priwall, a także odwiedzić Ostseestation Travemünde, akwarium Morza Bałtyckiego, gdzie nie tylko dowiemy się wszystkiego o morskich stworzeniach i podwodnym świecie Bałtyku, ale też nakarmimy żarłoczne płastugi.\\n'"
      ]
     },
     "execution_count": 26,
     "metadata": {},
     "output_type": "execute_result"
    }
   ],
   "source": [
    "sentences[2]"
   ]
  },
  {
   "cell_type": "code",
   "execution_count": 19,
   "id": "dcbb9f5f",
   "metadata": {},
   "outputs": [
    {
     "name": "stdout",
     "output_type": "stream",
     "text": [
      "ruszać rower serce szwajcaria dojeżdżać nadmorski dzielnica lubeka dzika przyroda zapomnieć widok zatoka lubecki rozciągać stromy brzeg klif miejsce osiągać metr wysokość ścieżek wzdłuż wybrzeże wieść góra spokojny przejechać rower wózek dołem dzika kamienista plaża jedyne schody łączyć obie ścieżek znajdować kilometr ujście rzeka położyć półwysep dziewiczy plaża otoczyć wydma rzadki gatunek ptak obserwować szlak wzdłuż wybrzeże prowadzić trasa rowerowy liczny punkt dostęp plaża zachęcać zatrzymać kąpiel obszar ochrona przyroda przyległy strefa płytki woda wiek miejsce występować rzadki gatunek roślina ptak warta skorzystać oferta warsztat odwiedzić akwarium morze bałtycki dowiedzieć wszystek morski stworzenie podwodne świat bałtyk nakarmić żarłoczny płastuga\n"
     ]
    }
   ],
   "source": [
    "lemma = lemmatisation(sentences[2], D, lista_sp)\n",
    "print(lemma)\n",
    "vec = vectorize(lemma, cores)\n",
    "# vec"
   ]
  },
  {
   "cell_type": "code",
   "execution_count": 47,
   "id": "fd4ec6c8",
   "metadata": {},
   "outputs": [
    {
     "data": {
      "text/plain": [
       "(138163,)"
      ]
     },
     "execution_count": 47,
     "metadata": {},
     "output_type": "execute_result"
    }
   ],
   "source": [
    "vec.shape"
   ]
  },
  {
   "cell_type": "code",
   "execution_count": 48,
   "id": "8a0ec0c5",
   "metadata": {},
   "outputs": [],
   "source": [
    "words = []\n",
    "for sentence in sentences:\n",
    "    words += lemmatisation(sentence, D, lista_sp).split(\" \")\n",
    "words = sorted(list(set(words)))"
   ]
  },
  {
   "cell_type": "code",
   "execution_count": 49,
   "id": "6e67b8b7",
   "metadata": {},
   "outputs": [
    {
     "data": {
      "text/plain": [
       "792"
      ]
     },
     "execution_count": 49,
     "metadata": {},
     "output_type": "execute_result"
    }
   ],
   "source": [
    "len(words)"
   ]
  },
  {
   "cell_type": "code",
   "execution_count": 51,
   "id": "177c6719",
   "metadata": {},
   "outputs": [],
   "source": [
    "vec = vectorize(lemmatisation(sentences[2], D, lista_sp).split(\" \"), words)"
   ]
  },
  {
   "cell_type": "code",
   "execution_count": 22,
   "id": "68080529",
   "metadata": {},
   "outputs": [
    {
     "data": {
      "text/plain": [
       "99.0"
      ]
     },
     "execution_count": 22,
     "metadata": {},
     "output_type": "execute_result"
    }
   ],
   "source": [
    "sum(vectorize(lemmatisation(sentences[2], D, lista_sp).split(\" \"), words))"
   ]
  },
  {
   "cell_type": "code",
   "execution_count": 54,
   "id": "f3b0e202",
   "metadata": {},
   "outputs": [],
   "source": [
    "X = []\n",
    "Y = []\n",
    "for sentence, context in zip(sentences, contexts):\n",
    "    x = vectorize(lemmatisation(sentence, D, lista_sp).split(\" \"), words)\n",
    "    y = vectorize_output(context, contexts_set)\n",
    "    X.append(x)\n",
    "    Y.append(y)\n",
    "\n",
    "X = np.array(X)\n",
    "Y = np.array(Y)"
   ]
  },
  {
   "cell_type": "code",
   "execution_count": 63,
   "id": "8ef7efbe",
   "metadata": {},
   "outputs": [
    {
     "data": {
      "text/plain": [
       "array([[0., 0., 0., ..., 0., 0., 0.],\n",
       "       [0., 0., 0., ..., 0., 0., 0.],\n",
       "       [0., 0., 0., ..., 0., 0., 0.],\n",
       "       ...,\n",
       "       [0., 0., 0., ..., 0., 0., 0.],\n",
       "       [0., 0., 0., ..., 0., 0., 0.],\n",
       "       [0., 0., 0., ..., 0., 0., 0.]])"
      ]
     },
     "execution_count": 63,
     "metadata": {},
     "output_type": "execute_result"
    }
   ],
   "source": [
    "X"
   ]
  },
  {
   "cell_type": "code",
   "execution_count": 64,
   "id": "42a9f271",
   "metadata": {},
   "outputs": [
    {
     "data": {
      "text/plain": [
       "array([[0., 0., 0., 0., 0., 0., 0., 0., 0., 0., 0., 1., 0.],\n",
       "       [0., 0., 0., 0., 0., 0., 0., 0., 0., 1., 0., 0., 0.],\n",
       "       [0., 1., 0., 0., 0., 0., 0., 0., 0., 0., 0., 0., 0.],\n",
       "       [0., 0., 0., 0., 0., 1., 0., 0., 0., 0., 0., 0., 0.],\n",
       "       [0., 0., 0., 0., 1., 0., 0., 0., 0., 0., 0., 0., 0.],\n",
       "       [0., 0., 0., 0., 0., 0., 0., 0., 0., 0., 1., 0., 0.],\n",
       "       [0., 0., 0., 0., 1., 0., 0., 0., 0., 0., 0., 0., 0.],\n",
       "       [0., 0., 0., 0., 0., 0., 1., 0., 0., 0., 0., 0., 0.],\n",
       "       [0., 0., 0., 0., 0., 0., 0., 0., 0., 0., 0., 0., 1.],\n",
       "       [0., 0., 0., 0., 0., 0., 0., 1., 0., 0., 0., 0., 0.],\n",
       "       [0., 0., 1., 0., 0., 0., 0., 0., 0., 0., 0., 0., 0.],\n",
       "       [0., 0., 1., 0., 0., 0., 0., 0., 0., 0., 0., 0., 0.],\n",
       "       [0., 0., 1., 0., 0., 0., 0., 0., 0., 0., 0., 0., 0.],\n",
       "       [0., 0., 0., 1., 0., 0., 0., 0., 0., 0., 0., 0., 0.],\n",
       "       [0., 0., 0., 1., 0., 0., 0., 0., 0., 0., 0., 0., 0.],\n",
       "       [1., 0., 0., 0., 0., 0., 0., 0., 0., 0., 0., 0., 0.],\n",
       "       [1., 0., 0., 0., 0., 0., 0., 0., 0., 0., 0., 0., 0.],\n",
       "       [1., 0., 0., 0., 0., 0., 0., 0., 0., 0., 0., 0., 0.],\n",
       "       [0., 0., 0., 0., 0., 0., 0., 0., 1., 0., 0., 0., 0.],\n",
       "       [0., 0., 0., 0., 0., 0., 0., 0., 1., 0., 0., 0., 0.]])"
      ]
     },
     "execution_count": 64,
     "metadata": {},
     "output_type": "execute_result"
    }
   ],
   "source": [
    "Y"
   ]
  },
  {
   "cell_type": "markdown",
   "id": "e7264a80",
   "metadata": {},
   "source": [
    "### Sieć neuronowa"
   ]
  },
  {
   "cell_type": "code",
   "execution_count": 66,
   "id": "7f9ca80e",
   "metadata": {},
   "outputs": [
    {
     "name": "stderr",
     "output_type": "stream",
     "text": [
      "C:\\Programs\\Anaconda\\lib\\site-packages\\scipy\\__init__.py:146: UserWarning: A NumPy version >=1.16.5 and <1.23.0 is required for this version of SciPy (detected version 1.26.4\n",
      "  warnings.warn(f\"A NumPy version >={np_minversion} and <{np_maxversion}\"\n"
     ]
    }
   ],
   "source": [
    "from sklearn.neural_network import MLPClassifier"
   ]
  },
  {
   "cell_type": "code",
   "execution_count": 97,
   "id": "5993b0e5",
   "metadata": {},
   "outputs": [
    {
     "name": "stderr",
     "output_type": "stream",
     "text": [
      "C:\\Programs\\Anaconda\\lib\\site-packages\\sklearn\\neural_network\\_multilayer_perceptron.py:500: ConvergenceWarning: lbfgs failed to converge (status=1):\n",
      "STOP: TOTAL NO. of ITERATIONS REACHED LIMIT.\n",
      "\n",
      "Increase the number of iterations (max_iter) or scale the data as shown in:\n",
      "    https://scikit-learn.org/stable/modules/preprocessing.html\n",
      "  self.n_iter_ = _check_optimize_result(\"lbfgs\", opt_res, self.max_iter)\n"
     ]
    },
    {
     "data": {
      "text/plain": [
       "MLPClassifier(alpha=1e-05, hidden_layer_sizes=(5, 5, 5, 5), max_iter=10,\n",
       "              random_state=1, solver='lbfgs')"
      ]
     },
     "execution_count": 97,
     "metadata": {},
     "output_type": "execute_result"
    }
   ],
   "source": [
    "clf = MLPClassifier(solver='lbfgs', alpha=1e-5,\n",
    "                    hidden_layer_sizes=(5, 5, 5, 5), random_state=1, max_iter=10)\n",
    "clf.fit(X, Y)"
   ]
  },
  {
   "cell_type": "code",
   "execution_count": 96,
   "id": "ce2176e6",
   "metadata": {},
   "outputs": [
    {
     "name": "stdout",
     "output_type": "stream",
     "text": [
      "pred:sport, oryg:markiza\n",
      "pred:sport, oryg:whiskey\n",
      "pred:historia, oryg:trasa\n",
      "pred:zwierzęta, oryg:szczepienia\n",
      "pred:wypadek, oryg:wypadek\n",
      "pred:sport, oryg:ropa\n",
      "pred:wypadek, oryg:wypadek\n",
      "pred:sondaż, oryg:sondaż\n",
      "pred:sport, oryg:wsparcie\n",
      "pred:sport, oryg:banan\n",
      "pred:zwierzęta, oryg:zwierzęta\n",
      "pred:zwierzęta, oryg:zwierzęta\n",
      "pred:zwierzęta, oryg:zwierzęta\n",
      "pred:sport, oryg:sport\n",
      "pred:sport, oryg:sport\n",
      "pred:astronomia, oryg:astronomia\n",
      "pred:astronomia, oryg:astronomia\n",
      "pred:astronomia, oryg:astronomia\n",
      "pred:historia, oryg:historia\n",
      "pred:historia, oryg:historia\n"
     ]
    }
   ],
   "source": [
    "for i in range(len(contexts)):\n",
    "    print(\"pred:{}, oryg:{}\".format(contexts_set[clf.predict_proba([X[i]])[0].argmax()], contexts[i]))"
   ]
  },
  {
   "cell_type": "code",
   "execution_count": 94,
   "id": "7ba706d8",
   "metadata": {},
   "outputs": [
    {
     "data": {
      "text/plain": [
       "'Supernowa – termin określający kilka rodzajów kosmicznych eksplozji powodujących powstanie na niebie niezwykle jasnego obiektu, który już po kilku tygodniach lub miesiącach staje się niemal niewidoczny. \\nSą dwie możliwe drogi prowadzące do takiego wybuchu: w jądrze masywnej gwiazdy przestały zachodzić reakcje termojądrowe bądź zachodzi proces pochłaniający promieniowanie (kreacja par, fotodezintegracja), a zmniejszenie ciśnienia promieniowania powoduje zapadanie się gwiazdy pod własnym ciężarem, bądź też biały karzeł tak długo pobierał materię z sąsiedniej gwiazdy, aż przekroczył masę Chandrasekhara, co doprowadziło do  eksplozji termojądrowej.\\nW obydwu przypadkach eksplozja supernowej z ogromną siłą wyrzuca w przestrzeń większość lub całą materię gwiazdy.\\n'"
      ]
     },
     "execution_count": 94,
     "metadata": {},
     "output_type": "execute_result"
    }
   ],
   "source": [
    "sentences[17]"
   ]
  },
  {
   "cell_type": "code",
   "execution_count": null,
   "id": "5020197e",
   "metadata": {},
   "outputs": [],
   "source": []
  }
 ],
 "metadata": {
  "kernelspec": {
   "display_name": "Python 3 (ipykernel)",
   "language": "python",
   "name": "python3"
  },
  "language_info": {
   "codemirror_mode": {
    "name": "ipython",
    "version": 3
   },
   "file_extension": ".py",
   "mimetype": "text/x-python",
   "name": "python",
   "nbconvert_exporter": "python",
   "pygments_lexer": "ipython3",
   "version": "3.9.7"
  }
 },
 "nbformat": 4,
 "nbformat_minor": 5
}
