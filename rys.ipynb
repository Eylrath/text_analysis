{
 "cells": [
  {
   "cell_type": "code",
   "execution_count": 1,
   "id": "eb235757",
   "metadata": {},
   "outputs": [],
   "source": [
    "import re\n",
    "import numpy as np"
   ]
  },
  {
   "cell_type": "markdown",
   "id": "61763251",
   "metadata": {},
   "source": [
    "### Stworzenie słownika z bazy sjp"
   ]
  },
  {
   "cell_type": "code",
   "execution_count": 2,
   "id": "881e1b6a",
   "metadata": {},
   "outputs": [],
   "source": [
    "with open (\"files/polish.stopwords.txt\", \"r\", encoding=\"utf8\") as file:\n",
    "    lista = file.read()\n",
    "lista_sp = []\n",
    "for el in lista.split():\n",
    "    if len(el) >=3:\n",
    "        lista_sp.append(el)"
   ]
  },
  {
   "cell_type": "code",
   "execution_count": 3,
   "id": "29e26a0b",
   "metadata": {},
   "outputs": [],
   "source": [
    "D = {}\n",
    "cores = []\n",
    "max_length = 10\n",
    "min_length = 4\n",
    "with open(\"files/odm.txt\", \"r\", encoding=\"utf8\") as f:\n",
    "    while words_list := f.readline():\n",
    "        words = words_list.replace(\", \", \",\").replace(\"\\n\", \"\")\n",
    "        found = False\n",
    "        for sign in \".:- !?\":\n",
    "            if sign in words:\n",
    "                found = True\n",
    "        words_list = words.split(\",\")\n",
    "        core = words_list[0].lower()\n",
    "        if found or len(core) > max_length or len(core) < min_length or core in lista_sp:\n",
    "            continue \n",
    "        cores.append(core)\n",
    "        for word in words_list:\n",
    "            word = word.lower()\n",
    "            if word not in D:\n",
    "                D[word] = core         \n",
    "cores = list(set(cores))"
   ]
  },
  {
   "cell_type": "code",
   "execution_count": 4,
   "id": "f7bf99cd",
   "metadata": {},
   "outputs": [
    {
     "data": {
      "text/plain": [
       "138163"
      ]
     },
     "execution_count": 4,
     "metadata": {},
     "output_type": "execute_result"
    }
   ],
   "source": [
    "len(cores)"
   ]
  },
  {
   "cell_type": "code",
   "execution_count": 6,
   "id": "b690c0ce",
   "metadata": {},
   "outputs": [],
   "source": [
    "# lista_sp"
   ]
  },
  {
   "cell_type": "markdown",
   "id": "d2d3fd30",
   "metadata": {},
   "source": [
    "### Funkcja do lematyzacji\n",
    "(kto by się spodziewał)"
   ]
  },
  {
   "cell_type": "code",
   "execution_count": 16,
   "id": "2fccdb1c",
   "metadata": {},
   "outputs": [],
   "source": [
    "def clean(tekst):\n",
    "    res = \"\"\n",
    "    tekst = tekst.replace('\\n', ' ')\n",
    "    tekst = tekst.lower()\n",
    "    for el in tekst:\n",
    "        if el not in [\".\",\",\",\"?\",\"!\",\";\",\":\",\"%\", \"&\", \")\",\">\",\"]\",\"$\",\"@\",\"(\", \"[\", \"<\", \"0\",\"1\",\"2\",\"3\",\"4\",\"5\",\"6\",\"7\",\"8\",\"9\"]:\n",
    "            res += el \n",
    "    return res\n",
    "\n",
    "def lemmatisation(text, D, stopwords):\n",
    "#     text = re.sub(\"[,.:]\", \"\", text)\n",
    "#     text = text.replace(\"\\n\", \" \")\n",
    "\n",
    "    text = clean(text)\n",
    "#     print(text)\n",
    "#     return \" \".join([D[word] if word in D else word for word in text.split(\" \") ])\n",
    "    return \" \".join([D[word] for word in text.split(\" \") if word in D and word not in stopwords])    "
   ]
  },
  {
   "cell_type": "code",
   "execution_count": 17,
   "id": "25b977cb",
   "metadata": {
    "scrolled": true
   },
   "outputs": [
    {
     "data": {
      "text/plain": [
       "'pierwsza przekazać protest związek naruszyć polski przestrzeń powietrzny dodatkowy związek zachować ambasador droga pisemny pomoc nota przesłać zarówno ambasada rosja warszawa zwiększyć efekt poprzez ambasada rosyjski druga wydać dyspozycja ambasador moskwa równia rosyjski warszawa zignorować najbliższy zaprosić rosyjski następny udzielić wywiad wybrać polski medium wyjaśnić odpowiadać forma zaprosić trzeci opcja wydawać niestety wskazywać rzecznik paweł wroński wydalić ambasador rosja problem polegać wskazywać rzecznik opłacać rosja polska polska wydać ambasador rosja rosjanin rama wzajemność zasada dyplomacja stosować wydalić rosja ambasador moskwa krzysztof krajewski głęboki zgodny żywotny interes narodowy utrzymywać kanał moskwa poziom ambasador sytuacja toczyć granica wojna mniej istotny czas pokój obecność ambasador pozwalać wnikliwy dziać pomiędzy waszyngton moskwa mówić wprost założyć amerykan mówić warta miecia nasłuch stan biali ambasada moskwa dodatek obecny ambasador moskwa należeć wąski grono ambasador państwo nato moskwa głos docierać stolica kwatera główny pakt'"
      ]
     },
     "execution_count": 17,
     "metadata": {},
     "output_type": "execute_result"
    }
   ],
   "source": [
    "text = \"\"\"Po pierwsze przekazać swój protest w związku z naruszeniem polskiej przestrzeni powietrznej oraz dodatkowo w związku z zachowaniem ambasadora drogą pisemną, czyli za pomocą noty dyplomatycznej, którą możemy przesłać zarówno Ambasadzie Rosji w Warszawie, jak i dla zwiększenia efektu poprzez naszą ambasadę rosyjskiemu MSZ.\n",
    "Po drugie można wydać dyspozycję ambasadorowi RP w Moskwie, by ten równie ostentacyjnie, co jego rosyjski odpowiednik w Warszawie, zignorował jedno z najbliższych zaproszeń do rosyjskiego MSZ, a następnie udzielił wywiadu wybranemu polskiemu medium, w którym wyjaśni, że nie odpowiadała mu forma zaproszenia.\n",
    "Trzecia opcja, na którą wydawał się niestety wskazywać rzecznik MSZ Paweł Wroński, to wydalenie ambasadora Rosji. Problem polega na tym, że to, na co wskazywał rzecznik MSZ, opłaca się Rosji, ale nie Polsce. Jeśli bowiem Polska wydali ambasadora Rosji, to Rosjanie w ramach wzajemności, czyli zasady dyplomacji, którą bezwzględnie stosują, wydalą z Rosji ambasadora RP w Moskwie Krzysztofa Krajewskiego. Byłoby to głęboko niezgodne z żywotnymi interesami narodowymi RP.\n",
    "Utrzymywanie kanału komunikacji z Moskwą na poziomie ambasadora jest w sytuacji toczącej się za naszą granicą wojny bardziej, a nie mniej istotne, niż w czasach pokoju.\n",
    "Co więcej, obecność ambasadora pozwala wnikliwej monitorować to, co dzieje się pomiędzy np. Waszyngtonem a Moskwą. Mówiąc wprost, jeśli założyć, że Amerykanie nie zawsze lub nie od razu nam wszystko mówią, to warto mieć nasłuch nie tylko w Departamencie Stanu USA czy też w Białym Domu, ale również Ambasadzie USA w Moskwie.\n",
    "W dodatku obecny ambasador w Moskwie należy do wąskiego grona ambasadorów państw NATO w Moskwie, których głos dociera nie tylko do ich stolic, ale również do Kwatery Głównej paktu.\"\"\"\n",
    "new_text = lemmatisation(text, D, lista_sp)\n",
    "new_text"
   ]
  },
  {
   "cell_type": "markdown",
   "id": "15c17bb4",
   "metadata": {},
   "source": [
    "### Zliczanie powtórzeń"
   ]
  },
  {
   "cell_type": "code",
   "execution_count": 10,
   "id": "17f09377",
   "metadata": {},
   "outputs": [],
   "source": [
    "occurences = {}\n",
    "for word in new_text.split(\" \"):\n",
    "    if word not in occurences:\n",
    "        occurences[word] = 1\n",
    "    else:\n",
    "        occurences[word] += 1"
   ]
  },
  {
   "cell_type": "code",
   "execution_count": 11,
   "id": "101f6bf3",
   "metadata": {},
   "outputs": [
    {
     "data": {
      "text/plain": [
       "[(9, 'ambasador'), (7, 'moskwa'), (5, 'rosja'), (3, 'rosyjski')]"
      ]
     },
     "execution_count": 11,
     "metadata": {},
     "output_type": "execute_result"
    }
   ],
   "source": [
    "# {word:occurences[word] for word in occurences.keys() if occurences[word] > 1}\n",
    "sorted(((occurence, word) for word, occurence in occurences.items()), reverse=True)[:4]"
   ]
  },
  {
   "cell_type": "markdown",
   "id": "25bb430a",
   "metadata": {},
   "source": [
    "#### todo\n",
    "- pod prezentację stworzyć histogram\n",
    "- wyrzucić spójniki\n",
    "- rozdzielic na slownik z rzeczownikami i z czasownikami\n"
   ]
  },
  {
   "cell_type": "code",
   "execution_count": 90,
   "id": "242bbc40",
   "metadata": {},
   "outputs": [
    {
     "data": {
      "text/plain": [
       "'egzekucja'"
      ]
     },
     "execution_count": 90,
     "metadata": {},
     "output_type": "execute_result"
    }
   ],
   "source": [
    "D[\"egzekucja\"]"
   ]
  },
  {
   "cell_type": "markdown",
   "id": "6c207ad5",
   "metadata": {},
   "source": [
    "Dzisiaj przeprowadzono egzekucję na krześle elektrycznym"
   ]
  },
  {
   "cell_type": "markdown",
   "id": "7bb644df",
   "metadata": {},
   "source": [
    "### Bag-of-words"
   ]
  },
  {
   "cell_type": "code",
   "execution_count": 12,
   "id": "425be5c4",
   "metadata": {
    "scrolled": true
   },
   "outputs": [
    {
     "data": {
      "text/plain": [
       "138163"
      ]
     },
     "execution_count": 12,
     "metadata": {},
     "output_type": "execute_result"
    }
   ],
   "source": [
    "len(cores)"
   ]
  },
  {
   "cell_type": "code",
   "execution_count": 13,
   "id": "2fc8610c",
   "metadata": {},
   "outputs": [],
   "source": [
    "def vectorize(sentence_L, all_words):\n",
    "    vector = np.zeros(len(all_words))\n",
    "    for word in sentence_L:\n",
    "        if word in all_words:\n",
    "            idx = all_words.index(word)\n",
    "            vector[idx] += 1\n",
    "    return vector"
   ]
  },
  {
   "cell_type": "code",
   "execution_count": 14,
   "id": "9d7c1d2e",
   "metadata": {},
   "outputs": [],
   "source": [
    "text_L = new_text.split(\" \")"
   ]
  },
  {
   "cell_type": "code",
   "execution_count": 15,
   "id": "6df83057",
   "metadata": {},
   "outputs": [],
   "source": [
    "X = vectorize(text_L, cores)"
   ]
  },
  {
   "cell_type": "code",
   "execution_count": 110,
   "id": "0e61831c",
   "metadata": {},
   "outputs": [
    {
     "data": {
      "text/plain": [
       "array([0., 0., 0., ..., 0., 0., 0.])"
      ]
     },
     "execution_count": 110,
     "metadata": {},
     "output_type": "execute_result"
    }
   ],
   "source": [
    "X"
   ]
  },
  {
   "cell_type": "markdown",
   "id": "8beae60f",
   "metadata": {},
   "source": [
    "###### Zdanie\n",
    "Marcinowi i o rok młodszemu Krzyśkowi ciężko bronić się podczas procesu. Konsekwentnie mówią, że z zabójstwem braci Nefel nie mają nic wspólnego. Nie było ich na miejscu zbrodni. Gdy doszło do morderstwa, byli ze swoimi rodzinami. Ich zeznania są spójne. Nie zmieniają się.\n",
    "\n",
    "Kontekst `Zbrodnia`"
   ]
  },
  {
   "cell_type": "code",
   "execution_count": 22,
   "id": "12428c2b",
   "metadata": {},
   "outputs": [],
   "source": [
    "with open('files/zdania.txt', 'r', encoding='utf8') as f:\n",
    "    sentences = []\n",
    "    sentence = \"\"\n",
    "    count_breaks = 0\n",
    "    while line := f.readline():\n",
    "        if line == '\\n':\n",
    "            count_breaks += 1\n",
    "        else:\n",
    "            sentence += line\n",
    "        if count_breaks == 2:\n",
    "            sentences.append(sentence)\n",
    "            sentence = \"\"\n",
    "            count_breaks = 0\n",
    "        "
   ]
  },
  {
   "cell_type": "code",
   "execution_count": 23,
   "id": "2b0c8446",
   "metadata": {},
   "outputs": [
    {
     "data": {
      "text/plain": [
       "10"
      ]
     },
     "execution_count": 23,
     "metadata": {},
     "output_type": "execute_result"
    }
   ],
   "source": [
    "len(sentences)"
   ]
  },
  {
   "cell_type": "code",
   "execution_count": 25,
   "id": "dcbb9f5f",
   "metadata": {},
   "outputs": [
    {
     "name": "stdout",
     "output_type": "stream",
     "text": [
      "ochronny markiz tarasowy markiz boczny chronić ciekawska spojrzeć sąsiad dzięki zakłócenia śniadać taras ponadto dziecko uchwyt sprawiać markiz zawodny opcja instalacja użyć dołączyć uchwyt podłogowy przykręcić jeść podłoże wsunąć słupek boczny uzyskać stała instalacja należeć przykręcić słupek boczny podłoże wytrzymać odporny rdza słupek markiz wykonać wysoka jakość stabilny metal powłoka proszkowo sprawiać rdzewieć rozkładać\n"
     ]
    },
    {
     "data": {
      "text/plain": [
       "array([0., 0., 0., ..., 0., 0., 0.])"
      ]
     },
     "execution_count": 25,
     "metadata": {},
     "output_type": "execute_result"
    }
   ],
   "source": [
    "lemma = lemmatisation(sentences[0], D, lista_sp)\n",
    "print(lemma)\n",
    "vec = vectorize(lemma, cores)\n",
    "vec"
   ]
  },
  {
   "cell_type": "code",
   "execution_count": null,
   "id": "fd4ec6c8",
   "metadata": {},
   "outputs": [],
   "source": []
  }
 ],
 "metadata": {
  "kernelspec": {
   "display_name": "Python 3 (ipykernel)",
   "language": "python",
   "name": "python3"
  },
  "language_info": {
   "codemirror_mode": {
    "name": "ipython",
    "version": 3
   },
   "file_extension": ".py",
   "mimetype": "text/x-python",
   "name": "python",
   "nbconvert_exporter": "python",
   "pygments_lexer": "ipython3",
   "version": "3.9.7"
  }
 },
 "nbformat": 4,
 "nbformat_minor": 5
}
