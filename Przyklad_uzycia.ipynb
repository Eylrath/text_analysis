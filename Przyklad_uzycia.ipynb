{
 "cells": [
  {
   "cell_type": "code",
   "execution_count": 1,
   "id": "815f9d63",
   "metadata": {},
   "outputs": [],
   "source": [
    "from context_analyser import *"
   ]
  },
  {
   "cell_type": "code",
   "execution_count": 2,
   "id": "94857f4e",
   "metadata": {},
   "outputs": [],
   "source": [
    "CA = ContextAnalyser()"
   ]
  },
  {
   "cell_type": "code",
   "execution_count": 3,
   "id": "24d5ed89",
   "metadata": {},
   "outputs": [],
   "source": [
    "X, Y = CA.getXY()"
   ]
  },
  {
   "cell_type": "code",
   "execution_count": 4,
   "id": "8de36067",
   "metadata": {},
   "outputs": [
    {
     "data": {
      "text/plain": [
       "'zwierzęta'"
      ]
     },
     "execution_count": 4,
     "metadata": {},
     "output_type": "execute_result"
    }
   ],
   "source": [
    "CA.get_context(Y[10].argmax())"
   ]
  },
  {
   "cell_type": "code",
   "execution_count": 5,
   "id": "fbfdc262",
   "metadata": {},
   "outputs": [
    {
     "data": {
      "text/plain": [
       "array([[0., 0., 0., ..., 0., 0., 0.],\n",
       "       [0., 0., 0., ..., 0., 0., 0.],\n",
       "       [0., 0., 0., ..., 0., 0., 0.],\n",
       "       ...,\n",
       "       [0., 0., 0., ..., 0., 0., 0.],\n",
       "       [0., 0., 0., ..., 0., 0., 0.],\n",
       "       [0., 0., 0., ..., 0., 0., 0.]])"
      ]
     },
     "execution_count": 5,
     "metadata": {},
     "output_type": "execute_result"
    }
   ],
   "source": [
    "X"
   ]
  },
  {
   "cell_type": "code",
   "execution_count": 6,
   "id": "a4af2509",
   "metadata": {},
   "outputs": [
    {
     "data": {
      "text/plain": [
       "array([ 1,  6,  5,  8, 12, 11, 12,  7, 10,  0,  2,  2,  2,  3,  3,  4,  4,\n",
       "        4,  9,  9], dtype=int64)"
      ]
     },
     "execution_count": 6,
     "metadata": {},
     "output_type": "execute_result"
    }
   ],
   "source": [
    "Y.argmax(axis=1)"
   ]
  },
  {
   "cell_type": "code",
   "execution_count": 7,
   "id": "ca2c9573",
   "metadata": {},
   "outputs": [
    {
     "name": "stderr",
     "output_type": "stream",
     "text": [
      "C:\\Programs\\Anaconda\\lib\\site-packages\\scipy\\__init__.py:146: UserWarning: A NumPy version >=1.16.5 and <1.23.0 is required for this version of SciPy (detected version 1.26.4\n",
      "  warnings.warn(f\"A NumPy version >={np_minversion} and <{np_maxversion}\"\n"
     ]
    }
   ],
   "source": [
    "from sklearn.neural_network import MLPClassifier"
   ]
  },
  {
   "cell_type": "code",
   "execution_count": 13,
   "id": "7271a30a",
   "metadata": {},
   "outputs": [
    {
     "name": "stderr",
     "output_type": "stream",
     "text": [
      "C:\\Programs\\Anaconda\\lib\\site-packages\\sklearn\\neural_network\\_multilayer_perceptron.py:500: ConvergenceWarning: lbfgs failed to converge (status=1):\n",
      "STOP: TOTAL NO. of ITERATIONS REACHED LIMIT.\n",
      "\n",
      "Increase the number of iterations (max_iter) or scale the data as shown in:\n",
      "    https://scikit-learn.org/stable/modules/preprocessing.html\n",
      "  self.n_iter_ = _check_optimize_result(\"lbfgs\", opt_res, self.max_iter)\n"
     ]
    },
    {
     "data": {
      "text/plain": [
       "MLPClassifier(alpha=1e-05, hidden_layer_sizes=(5, 5), max_iter=100,\n",
       "              random_state=1, solver='lbfgs')"
      ]
     },
     "execution_count": 13,
     "metadata": {},
     "output_type": "execute_result"
    }
   ],
   "source": [
    "clf = MLPClassifier(solver='lbfgs', alpha=1e-5,\n",
    "                    hidden_layer_sizes=(5, 5), random_state=1, max_iter=100)\n",
    "clf.fit(X, Y)"
   ]
  },
  {
   "cell_type": "code",
   "execution_count": 14,
   "id": "1e894b79",
   "metadata": {},
   "outputs": [
    {
     "name": "stdout",
     "output_type": "stream",
     "text": [
      "pred:markiza, oryg:markiza\n",
      "pred:trasa, oryg:whiskey\n",
      "pred:trasa, oryg:trasa\n",
      "pred:szczepienia, oryg:szczepienia\n",
      "pred:wypadek, oryg:wypadek\n",
      "pred:trasa, oryg:ropa\n",
      "pred:markiza, oryg:wypadek\n",
      "pred:sondaż, oryg:sondaż\n",
      "pred:wsparcie, oryg:wsparcie\n",
      "pred:banan, oryg:banan\n",
      "pred:zwierzęta, oryg:zwierzęta\n",
      "pred:zwierzęta, oryg:zwierzęta\n",
      "pred:zwierzęta, oryg:zwierzęta\n",
      "pred:sport, oryg:sport\n",
      "pred:sport, oryg:sport\n",
      "pred:astronomia, oryg:astronomia\n",
      "pred:astronomia, oryg:astronomia\n",
      "pred:astronomia, oryg:astronomia\n",
      "pred:historia, oryg:historia\n",
      "pred:astronomia, oryg:historia\n"
     ]
    }
   ],
   "source": [
    "for i in range(CA.get_len()):\n",
    "    pred_idx = clf.predict_proba([X[i]])[0].argmax()\n",
    "    org_idx = Y[i].argmax()\n",
    "    print(\"pred:{}, oryg:{}\".format(CA.get_context(pred_idx), CA.get_context(org_idx)))"
   ]
  },
  {
   "cell_type": "code",
   "execution_count": null,
   "id": "5be6cd85",
   "metadata": {},
   "outputs": [],
   "source": []
  }
 ],
 "metadata": {
  "kernelspec": {
   "display_name": "Python 3 (ipykernel)",
   "language": "python",
   "name": "python3"
  },
  "language_info": {
   "codemirror_mode": {
    "name": "ipython",
    "version": 3
   },
   "file_extension": ".py",
   "mimetype": "text/x-python",
   "name": "python",
   "nbconvert_exporter": "python",
   "pygments_lexer": "ipython3",
   "version": "3.9.7"
  }
 },
 "nbformat": 4,
 "nbformat_minor": 5
}
