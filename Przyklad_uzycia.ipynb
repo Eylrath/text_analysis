{
 "cells": [
  {
   "cell_type": "code",
   "execution_count": 1,
   "id": "815f9d63",
   "metadata": {},
   "outputs": [],
   "source": [
    "from context_analyser import *"
   ]
  },
  {
   "cell_type": "code",
   "execution_count": 2,
   "id": "94857f4e",
   "metadata": {},
   "outputs": [],
   "source": [
    "CA = ContextAnalyser(False)\n",
    "CA.read_sentences('files/zdania_trening.txt')\n",
    "CA.read_contexts('files/konteksty_trening.txt')\n",
    "CA.read_sentences('files/zdania.txt')\n",
    "CA.read_contexts('files/konteksty.txt')"
   ]
  },
  {
   "cell_type": "code",
   "execution_count": 3,
   "id": "24d5ed89",
   "metadata": {},
   "outputs": [],
   "source": [
    "X, Y = CA.getXY()"
   ]
  },
  {
   "cell_type": "code",
   "execution_count": 5,
   "id": "7ec15d93-ff8f-4fe2-a68d-c4a41fc350e0",
   "metadata": {},
   "outputs": [
    {
     "data": {
      "text/plain": [
       "(201, 8)"
      ]
     },
     "execution_count": 5,
     "metadata": {},
     "output_type": "execute_result"
    }
   ],
   "source": [
    "Y.shape"
   ]
  },
  {
   "cell_type": "code",
   "execution_count": 6,
   "id": "8de36067",
   "metadata": {},
   "outputs": [
    {
     "data": {
      "text/plain": [
       "'astronomia'"
      ]
     },
     "execution_count": 6,
     "metadata": {},
     "output_type": "execute_result"
    }
   ],
   "source": [
    "CA.get_context(Y[10].argmax())"
   ]
  },
  {
   "cell_type": "code",
   "execution_count": 7,
   "id": "ee3d1307-e615-447a-8cc3-6eb31fc6a843",
   "metadata": {},
   "outputs": [],
   "source": [
    "from sklearn.neural_network import MLPClassifier\n",
    "from math import floor"
   ]
  },
  {
   "cell_type": "code",
   "execution_count": 8,
   "id": "ad78c924-ceb8-4be3-9a16-f8b980bcdd47",
   "metadata": {},
   "outputs": [],
   "source": [
    "def result(X, y, clf, CA, print_res=True):\n",
    "    score = 0.0\n",
    "    for i in range(len(y)):\n",
    "        pred_idx = clf.predict_proba([X[i]])[0].argmax()\n",
    "        org_idx = y[i].argmax()\n",
    "        pred_res = CA.get_context(pred_idx)\n",
    "        org_res = CA.get_context(org_idx)\n",
    "        score += (org_res == pred_res)\n",
    "        if print_res:\n",
    "            print(\"pred:{}, oryg:{}\".format(pred_res, org_res))\n",
    "    print(score / len(y))\n",
    "\n",
    "def train_test_split(X, Y, train_size=0.9, shuffle_test=False, scale=True):\n",
    "    size = len(X)\n",
    "    delim = floor(size*train_size)+1\n",
    "    X_train = X[:delim]\n",
    "    y_train = Y[:delim]\n",
    "    X_test = X[delim:]\n",
    "    y_test = Y[delim:]\n",
    "    train_order = np.arange(delim)\n",
    "    test_order = np.arange(len(y_test))\n",
    "    np.random.shuffle(train_order)\n",
    "    if shuffle_test:\n",
    "        np.random.shuffle(test_order)\n",
    "    if scale:\n",
    "        X_train = np.arctan(X_train)\n",
    "        X_test = np.arctan(X_test)\n",
    "    return X_train[train_order], y_train[train_order], X_test[test_order], y_test[test_order]"
   ]
  },
  {
   "cell_type": "code",
   "execution_count": 9,
   "id": "1439af44-9615-4ffb-8990-19560cdee16f",
   "metadata": {},
   "outputs": [],
   "source": [
    "class Scaler():\n",
    "    def __init__(self):\n",
    "        self.min = 0\n",
    "        self.max = 0\n",
    "        \n",
    "    def fit(self, X):\n",
    "        self.min = X.min()\n",
    "        self.max = X.max()\n",
    "\n",
    "    def transform(self, X):\n",
    "        return (X - self.min) / (self.max - self.min)\n",
    "\n",
    "    def inverse_transform(self, X):\n",
    "        return X * (self.max - self.min) + self.min\n",
    "\n",
    "    def fit_transform(self, X):\n",
    "        self.fit(X)\n",
    "        return self.transform(X)"
   ]
  },
  {
   "cell_type": "code",
   "execution_count": 10,
   "id": "ab6de972-b107-4a3b-a995-a020f9f77dca",
   "metadata": {},
   "outputs": [],
   "source": [
    "scaler = Scaler()\n",
    "X_scaled = scaler.fit_transform(X)"
   ]
  },
  {
   "cell_type": "code",
   "execution_count": 11,
   "id": "ca2c9573",
   "metadata": {},
   "outputs": [],
   "source": [
    "X_train, y_train, X_test, y_test = train_test_split(X_scaled, Y, 0.9, True)"
   ]
  },
  {
   "cell_type": "code",
   "execution_count": 16,
   "id": "7271a30a",
   "metadata": {},
   "outputs": [
    {
     "name": "stdout",
     "output_type": "stream",
     "text": [
      "1.0\n",
      "0.55\n"
     ]
    }
   ],
   "source": [
    "clf = MLPClassifier(solver='adam', alpha=1e-2,\n",
    "                    hidden_layer_sizes=(2,4), max_iter=10000).fit(X_train, y_train)\n",
    "\n",
    "result(X_train, y_train, clf, CA, False)\n",
    "result(X_test, y_test, clf, CA, False)"
   ]
  },
  {
   "cell_type": "code",
   "execution_count": 17,
   "id": "1e894b79",
   "metadata": {},
   "outputs": [
    {
     "name": "stdout",
     "output_type": "stream",
     "text": [
      "pred:zwierzęta, oryg:zwierzęta\n",
      "pred:zwierzęta, oryg:sport\n",
      "pred:zwierzęta, oryg:zwierzęta\n",
      "pred:owoc, oryg:owoc\n",
      "pred:owoc, oryg:owoc\n",
      "pred:zwierzęta, oryg:astronomia\n",
      "pred:sport, oryg:sport\n",
      "pred:alkohol, oryg:sport\n",
      "pred:zwierzęta, oryg:zwierzęta\n",
      "pred:astronomia, oryg:astronomia\n",
      "pred:sport, oryg:owoc\n",
      "pred:astronomia, oryg:astronomia\n",
      "pred:owoc, oryg:owoc\n",
      "pred:alkohol, oryg:alkohol\n",
      "pred:zwierzęta, oryg:historia\n",
      "pred:zwierzęta, oryg:wypadek\n",
      "pred:alkohol, oryg:historia\n",
      "pred:sport, oryg:owoc\n",
      "pred:sport, oryg:owoc\n",
      "pred:owoc, oryg:owoc\n",
      "0.55\n"
     ]
    }
   ],
   "source": [
    "result(X_test, y_test, clf, CA, True)"
   ]
  },
  {
   "cell_type": "code",
   "execution_count": 93,
   "id": "fbcfd491-87f1-48c8-b006-0c5d11ff7ad3",
   "metadata": {},
   "outputs": [
    {
     "name": "stdout",
     "output_type": "stream",
     "text": [
      "0.05263157894736842\n"
     ]
    }
   ],
   "source": [
    "result(X_test, y_test, clf, CA, False)"
   ]
  },
  {
   "cell_type": "code",
   "execution_count": 85,
   "id": "5be6cd85",
   "metadata": {},
   "outputs": [],
   "source": [
    "A = np.array([10,12,3, 150])\n"
   ]
  },
  {
   "cell_type": "code",
   "execution_count": 25,
   "id": "001a2753-8e76-43c4-a6c6-ec0e64c3235d",
   "metadata": {},
   "outputs": [
    {
     "data": {
      "text/plain": [
       "array([  3,  10,  12, 150])"
      ]
     },
     "execution_count": 25,
     "metadata": {},
     "output_type": "execute_result"
    }
   ],
   "source": [
    "B = np.arange(4)\n",
    "np.random.shuffle(B)\n",
    "A[B]"
   ]
  },
  {
   "cell_type": "code",
   "execution_count": 14,
   "id": "52804af6-a507-4dc6-8467-af2c656f66e7",
   "metadata": {},
   "outputs": [
    {
     "data": {
      "text/plain": [
       "array([  3,  12, 150,  10])"
      ]
     },
     "execution_count": 14,
     "metadata": {},
     "output_type": "execute_result"
    }
   ],
   "source": []
  },
  {
   "cell_type": "code",
   "execution_count": null,
   "id": "ea28da83-9c5e-4ca1-bab8-08e8384995ac",
   "metadata": {},
   "outputs": [],
   "source": []
  }
 ],
 "metadata": {
  "kernelspec": {
   "display_name": "Python 3 (ipykernel)",
   "language": "python",
   "name": "python3"
  },
  "language_info": {
   "codemirror_mode": {
    "name": "ipython",
    "version": 3
   },
   "file_extension": ".py",
   "mimetype": "text/x-python",
   "name": "python",
   "nbconvert_exporter": "python",
   "pygments_lexer": "ipython3",
   "version": "3.9.7"
  }
 },
 "nbformat": 4,
 "nbformat_minor": 5
}
